{
 "cells": [
  {
   "cell_type": "markdown",
   "id": "automated-atlantic",
   "metadata": {},
   "source": [
    "## Daily Pivot IPMI"
   ]
  },
  {
   "cell_type": "code",
   "execution_count": 2,
   "id": "unusual-provision",
   "metadata": {},
   "outputs": [
    {
     "name": "stdout",
     "output_type": "stream",
     "text": [
      "__ambient__ambient__ambient__ambient__ambient__ambient__\n",
      "__fan0_0__fan0_0__fan0_0__fan0_0__fan0_0__fan0_0__\n",
      "__fan0_1__fan0_1__fan0_1__fan0_1__fan0_1__fan0_1__\n",
      "__fan1_0__fan1_0__fan1_0__fan1_0__fan1_0__fan1_0__\n",
      "__fan1_1__fan1_1__fan1_1__fan1_1__fan1_1__fan1_1__\n",
      "__fan2_0__fan2_0__fan2_0__fan2_0__fan2_0__fan2_0__\n",
      "__fan2_1__fan2_1__fan2_1__fan2_1__fan2_1__fan2_1__\n",
      "__fan3_0__fan3_0__fan3_0__fan3_0__fan3_0__fan3_0__\n",
      "__fan3_1__fan3_1__fan3_1__fan3_1__fan3_1__fan3_1__\n",
      "__pcie__pcie__pcie__pcie__pcie__pcie__\n",
      "__ps0_input_power__ps0_input_power__ps0_input_power__ps0_input_power__ps0_input_power__ps0_input_power__\n",
      "__ps1_input_power__ps1_input_power__ps1_input_power__ps1_input_power__ps1_input_power__ps1_input_power__\n"
     ]
    }
   ],
   "source": [
    "%reset -f\n",
    "import sys, os\n",
    "sys.path.append('/home/seyedkazemi/codes/mskhelper/')\n",
    "import pandas as pd, numpy as np\n",
    "import logging\n",
    "import datetime, pytz\n",
    "import mohsenutils, data_provider, m100_preprocessing_helper\n",
    "import imp \n",
    "imp.reload(mohsenutils)\n",
    "imp.reload(data_provider)\n",
    "imp.reload(m100_preprocessing_helper)\n",
    "\n",
    "for metric in ['ambient',\n",
    "               'fan0_0','fan0_1','fan1_0','fan1_1','fan2_0','fan2_1','fan3_0','fan3_1',\n",
    "               'pcie',\n",
    "               'ps0_input_power','ps1_input_power']:\n",
    "\n",
    "# for metric in ['ambient',\n",
    "#                'fan0_0','fan0_1','fan1_0','fan1_1','fan2_0','fan2_1','fan3_0','fan3_1',\n",
    "#                'pcie',\n",
    "#                'ps0_input_power','ps1_input_power',\n",
    "#                'gpu0_core_temp','gpu0_mem_temp','gpu1_core_temp','gpu1_mem_temp','gpu3_core_temp','gpu3_mem_temp','gpu4_core_temp','gpu4_mem_temp',\n",
    "#                'p0_core0_temp','p0_core10_temp','p0_core11_temp','p0_core12_temp','p0_core13_temp','p0_core14_temp','p0_core15_temp','p0_core16_temp',\n",
    "#                'p0_core17_temp','p0_core18_temp','p0_core19_temp','p0_core1_temp','p0_core20_temp','p0_core21_temp','p0_core22_temp','p0_core23_temp',\n",
    "#                'p0_core2_temp','p0_core3_temp','p0_core4_temp','p0_core5_temp','p0_core6_temp','p0_core7_temp','p0_core8_temp','p0_core9_temp',\n",
    "#                'p0_vdd_temp',\n",
    "#                'p1_core0_temp','p1_core10_temp','p1_core11_temp','p1_core12_temp','p1_core13_temp','p1_core14_temp','p1_core15_temp','p1_core16_temp',\n",
    "#                'p1_core17_temp','p1_core18_temp','p1_core19_temp','p1_core1_temp','p1_core20_temp','p1_core21_temp','p1_core22_temp','p1_core23_temp',\n",
    "#                'p1_core2_temp','p1_core3_temp','p1_core4_temp','p1_core5_temp','p1_core6_temp','p1_core7_temp','p1_core8_temp','p1_core9_temp',\n",
    "#                'p1_vdd_temp']:\n",
    "    \n",
    "    print('__'+metric+'__'+metric+'__'+metric+'__'+metric+'__'+metric+'__'+metric+'__')\n",
    "    logging.info(str('__'+metric+'__'+metric+'__'+metric+'__'+metric+'__'+metric+'__'+metric+'__'))\n",
    "    log_file_name = 'log_raw_data_cook_'+datetime.datetime.strftime(datetime.datetime.now(pytz.timezone('Europe/Rome')), \n",
    "                                                                      '%Y-%m-%d %H:%M:%S').replace(':','-').replace(' ','_')+'.log'\n",
    "    logging.basicConfig(filename=log_file_name,level=logging.INFO, format='%(levelname)s:%(asctime)s:%(lineno)d:%(message)s')\n",
    "\n",
    "\n",
    "    path = '/home/seyedkazemi/dataset/Marconi100_backup/ipmi_pub/'+metric+'/'\n",
    "\n",
    "\n",
    "    if not os.path.isdir(path+'/'+metric+'_done/'):\n",
    "        os.makedirs(path+'/'+metric+'_done/')\n",
    "\n",
    "    if not os.path.isdir(path+'/'+metric+'_pivot/'):\n",
    "        os.makedirs(path+'/'+metric+'_pivot/')    \n",
    "\n",
    "    files_list = sorted([file for file in os.listdir(path) if '.csv.gz' in file])\n",
    "    # files_list = ['ambient_2020-03-14_00-00-00_to_2020-03-15_00-00-00.csv.gz']\n",
    "    for file in files_list:\n",
    "        print(file)\n",
    "        logging.info(str(file))\n",
    "        data = pd.read_csv(path+file, compression='gzip', index_col='timestamp')\n",
    "        print('Data shape: ', data.shape)\n",
    "        logging.info('Data shape: '+ str(data.shape))\n",
    "\n",
    "\n",
    "        data = data.pipe(m100_preprocessing_helper.remove_Unnamed, log=True).\\\n",
    "        pipe(m100_preprocessing_helper.unique_val, log=True).\\\n",
    "        pipe(m100_preprocessing_helper.pvt,index='timestamp', freq='10T', columns='node', values='value', log=True)\n",
    "\n",
    "        data.to_csv(path+'/'+metric+'_pivot/'+file.split('.')[0]+'.csv.gz', compression='gzip')\n",
    "        os.replace(path+file, path+metric+'_done/'+file)\n",
    "        print(50*'#')\n",
    "        logging.info(str(50*'#'))\n",
    "    \n",
    "    \n",
    "    "
   ]
  },
  {
   "cell_type": "markdown",
   "id": "blank-theater",
   "metadata": {},
   "source": [
    "## Create One Big file"
   ]
  },
  {
   "cell_type": "code",
   "execution_count": 3,
   "id": "regular-thompson",
   "metadata": {},
   "outputs": [
    {
     "name": "stdout",
     "output_type": "stream",
     "text": [
      "/home/seyedkazemi/dataset/Marconi100_backup/ipmi_pub/pcie/pcie_pivot/pcie_big.csv.gz Created !!!\n"
     ]
    }
   ],
   "source": [
    "%reset -f\n",
    "import sys, os\n",
    "sys.path.append('/home/seyedkazemi/codes/mskhelper/')\n",
    "import pandas as pd, numpy as np\n",
    "import glob\n",
    "import logging\n",
    "import datetime, pytz\n",
    "import mohsenutils\n",
    "import imp \n",
    "import m100_preprocessing_helper\n",
    "imp.reload(m100_preprocessing_helper)\n",
    "\n",
    "\n",
    "\n",
    "pth = '/home/seyedkazemi/dataset/Marconi100_backup/'\n",
    "\n",
    "\n",
    "for m in ['fan0_0','fan0_1','fan1_0','fan1_1','fan2_0','fan2_1','fan3_0','fan3_1','ambient','ps0_input_power','ps1_input_power','pcie']:\n",
    "    csvdir = os.path.join(pth, 'ipmi_pub', m, m+'_pivot')\n",
    "    m100_preprocessing_helper.concat_multiple_csvs(csvdir=csvdir,\n",
    "                                                   big_csv_path_name=os.path.join(csvdir, m+'_big.csv.gz'), \n",
    "                                                   old_pivot_path=os.path.join(pth, 'ipmi_pub', m, m+'_pivot_old_pivot',''), \n",
    "                                                   freq='10T')\n",
    "\n"
   ]
  },
  {
   "cell_type": "markdown",
   "id": "artificial-collector",
   "metadata": {},
   "source": [
    "## FAN DATA"
   ]
  },
  {
   "cell_type": "code",
   "execution_count": 4,
   "id": "actual-inventory",
   "metadata": {},
   "outputs": [
    {
     "name": "stdout",
     "output_type": "stream",
     "text": [
      "2021-04-08 00:00:00 2022-04-07 00:00:00\n",
      "2021-04-08 00:00:00 2022-04-07 00:00:00\n",
      "2021-04-08 00:00:00 2022-04-07 00:00:00\n",
      "2021-04-08 00:00:00 2022-04-07 00:00:00\n",
      "2021-04-08 00:00:00 2022-04-07 00:00:00\n",
      "2021-04-08 00:00:00 2022-04-07 00:00:00\n",
      "2021-04-08 00:00:00 2022-04-07 00:00:00\n",
      "2021-04-08 00:00:00 2022-04-07 00:00:00\n",
      "2021-04-08 00:00:00 2022-04-07 00:00:00\n",
      "2021-04-08 00:00:00 2022-04-07 00:00:00\n",
      "2021-04-08 00:00:00 2022-04-07 00:00:00\n",
      "2021-04-08 00:00:00 2022-04-07 00:00:00\n",
      "2021-04-08 00:00:00 2022-04-07 00:00:00\n",
      "2021-04-08 00:00:00 2022-04-07 00:00:00\n",
      "2021-04-08 00:00:00 2022-04-07 00:00:00\n",
      "2021-04-08 00:00:00 2022-04-07 00:00:00\n",
      "2021-04-08 00:00:00 2022-04-07 00:00:00\n",
      "2021-04-08 00:00:00 2022-04-07 00:00:00\n",
      "2021-04-08 00:00:00 2022-04-07 00:00:00\n",
      "2021-04-08 00:00:00 2022-04-07 00:00:00\n",
      "2021-04-08 00:00:00 2022-04-07 00:00:00\n",
      "2021-04-08 00:00:00 2022-04-07 00:00:00\n",
      "2021-04-08 00:00:00 2022-04-07 00:00:00\n",
      "2021-04-08 00:00:00 2022-04-07 00:00:00\n",
      "2021-04-08 00:00:00 2022-04-07 00:00:00\n",
      "2021-04-08 00:00:00 2022-04-07 00:00:00\n",
      "2021-04-08 00:00:00 2022-04-07 00:00:00\n",
      "2021-04-08 00:00:00 2022-04-07 00:00:00\n"
     ]
    }
   ],
   "source": [
    "%reset -f\n",
    "import sys, os\n",
    "sys.path.append('/home/seyedkazemi/codes/mskhelper/')\n",
    "import pandas as pd, numpy as np\n",
    "import dask.dataframe as ds\n",
    "import logging\n",
    "import datetime, pytz\n",
    "import mohsenutils\n",
    "import imp \n",
    "import m100_preprocessing_helper\n",
    "imp.reload(m100_preprocessing_helper)\n",
    "\n",
    "\n",
    "f00 = pd.read_csv('/home/seyedkazemi/dataset/Marconi100_backup/ipmi_pub/fan0_0/fan0_0_pivot/fan0_0_big.csv.gz', compression='gzip', index_col='timestamp', date_parser=pd.to_datetime, parse_dates=True)\n",
    "f01 = pd.read_csv('/home/seyedkazemi/dataset/Marconi100_backup/ipmi_pub/fan0_1/fan0_1_pivot/fan0_1_big.csv.gz', compression='gzip', index_col='timestamp', date_parser=pd.to_datetime, parse_dates=True)\n",
    "\n",
    "f10 = pd.read_csv('/home/seyedkazemi/dataset/Marconi100_backup/ipmi_pub/fan1_0/fan1_0_pivot/fan1_0_big.csv.gz', compression='gzip', index_col='timestamp', date_parser=pd.to_datetime, parse_dates=True)\n",
    "f11 = pd.read_csv('/home/seyedkazemi/dataset/Marconi100_backup/ipmi_pub/fan1_1/fan1_1_pivot/fan1_1_big.csv.gz', compression='gzip', index_col='timestamp', date_parser=pd.to_datetime, parse_dates=True)\n",
    "\n",
    "f20 = pd.read_csv('/home/seyedkazemi/dataset/Marconi100_backup/ipmi_pub/fan2_0/fan2_0_pivot/fan2_0_big.csv.gz', compression='gzip', index_col='timestamp', date_parser=pd.to_datetime, parse_dates=True)\n",
    "f21 = pd.read_csv('/home/seyedkazemi/dataset/Marconi100_backup/ipmi_pub/fan2_1/fan2_1_pivot/fan2_1_big.csv.gz', compression='gzip', index_col='timestamp', date_parser=pd.to_datetime, parse_dates=True)\n",
    "\n",
    "f30 = pd.read_csv('/home/seyedkazemi/dataset/Marconi100_backup/ipmi_pub/fan3_0/fan3_0_pivot/fan3_0_big.csv.gz', compression='gzip', index_col='timestamp', date_parser=pd.to_datetime, parse_dates=True)\n",
    "f31 = pd.read_csv('/home/seyedkazemi/dataset/Marconi100_backup/ipmi_pub/fan3_1/fan3_1_pivot/fan3_1_big.csv.gz', compression='gzip', index_col='timestamp', date_parser=pd.to_datetime, parse_dates=True)\n",
    "\n",
    "\n",
    "f00, f01 = mohsenutils.same_index_range(f00, f01)\n",
    "\n",
    "f00, f10 = mohsenutils.same_index_range(f00, f10)\n",
    "f00, f11 = mohsenutils.same_index_range(f00, f11)\n",
    "\n",
    "f00, f20 = mohsenutils.same_index_range(f00, f20)\n",
    "f00, f21 = mohsenutils.same_index_range(f00, f21)\n",
    "\n",
    "f00, f30 = mohsenutils.same_index_range(f00, f30)\n",
    "f00, f31 = mohsenutils.same_index_range(f00, f31)\n",
    "\n",
    "\n",
    "\n",
    "f00, f01 = mohsenutils.same_index_range(f00, f01)\n",
    "\n",
    "f00, f10 = mohsenutils.same_index_range(f00, f10)\n",
    "f00, f11 = mohsenutils.same_index_range(f00, f11)\n",
    "\n",
    "f00, f20 = mohsenutils.same_index_range(f00, f20)\n",
    "f00, f21 = mohsenutils.same_index_range(f00, f21)\n",
    "\n",
    "f00, f30 = mohsenutils.same_index_range(f00, f30)\n",
    "f00, f31 = mohsenutils.same_index_range(f00, f31)\n",
    "\n",
    "data = f00.fillna(0)+f01.fillna(0)+f10.fillna(0)+f11.fillna(0)+f20.fillna(0)+f21.fillna(0)+f30.fillna(0)+f31.fillna(0)\n",
    "data = data/8\n",
    "\n",
    "data.index.name = 'timestamp'\n",
    "data.to_csv('/home/seyedkazemi/dataset/M100_Complete/fan_nodes_big.csv.gz', compression='gzip')"
   ]
  },
  {
   "cell_type": "markdown",
   "id": "warming-church",
   "metadata": {},
   "source": [
    "## POWER DATA"
   ]
  },
  {
   "cell_type": "code",
   "execution_count": 5,
   "id": "latin-moment",
   "metadata": {},
   "outputs": [
    {
     "name": "stdout",
     "output_type": "stream",
     "text": [
      "2021-04-08 00:00:00 2022-04-07 00:00:00\n",
      "2021-04-08 00:00:00 2022-04-07 00:00:00\n"
     ]
    }
   ],
   "source": [
    "%reset -f\n",
    "import sys, os\n",
    "sys.path.append('/home/seyedkazemi/codes/mskhelper/')\n",
    "import pandas as pd, numpy as np\n",
    "import dask.dataframe as ds\n",
    "import logging\n",
    "import datetime, pytz\n",
    "import mohsenutils\n",
    "import imp \n",
    "import m100_preprocessing_helper\n",
    "imp.reload(m100_preprocessing_helper)\n",
    "\n",
    "\n",
    "ps0 = pd.read_csv('/home/seyedkazemi/dataset/Marconi100_backup/ipmi_pub/ps0_input_power/ps0_input_power_pivot/ps0_input_power_big.csv.gz', compression='gzip' ,index_col='timestamp', date_parser=pd.to_datetime, parse_dates=True)\n",
    "ps1 = pd.read_csv('/home/seyedkazemi/dataset/Marconi100_backup/ipmi_pub/ps1_input_power/ps1_input_power_pivot/ps1_input_power_big.csv.gz', compression='gzip', index_col='timestamp', date_parser=pd.to_datetime, parse_dates=True)\n",
    "\n",
    "ps0, ps1 = mohsenutils.same_index_range(ps0, ps1)\n",
    "\n",
    "data = ps0.fillna(0)+ps1.fillna(0)\n",
    "data.index.name = 'timestamp'\n",
    "\n",
    "data.to_csv('/home/seyedkazemi/dataset/M100_Complete/ps_big.csv.gz', compression='gzip')"
   ]
  },
  {
   "cell_type": "markdown",
   "id": "constant-gather",
   "metadata": {},
   "source": [
    "## COPY ambien and pcie DATA"
   ]
  },
  {
   "cell_type": "code",
   "execution_count": 6,
   "id": "amateur-clearance",
   "metadata": {},
   "outputs": [
    {
     "data": {
      "text/plain": [
       "'/home/seyedkazemi/dataset/M100_Complete/pcie_big.csv.gz'"
      ]
     },
     "execution_count": 6,
     "metadata": {},
     "output_type": "execute_result"
    }
   ],
   "source": [
    "from shutil import copyfile\n",
    "copyfile('/home/seyedkazemi/dataset/Marconi100_backup/ipmi_pub/ambient/ambient_pivot/ambient_big.csv.gz', '/home/seyedkazemi/dataset/M100_Complete/ambient_big.csv.gz')\n",
    "copyfile('/home/seyedkazemi/dataset/Marconi100_backup/ipmi_pub/pcie/pcie_pivot/pcie_big.csv.gz',          '/home/seyedkazemi/dataset/M100_Complete/pcie_big.csv.gz')\n"
   ]
  },
  {
   "cell_type": "code",
   "execution_count": null,
   "id": "acknowledged-messenger",
   "metadata": {},
   "outputs": [],
   "source": []
  },
  {
   "cell_type": "code",
   "execution_count": null,
   "id": "august-meditation",
   "metadata": {},
   "outputs": [],
   "source": [
    "%reset -f\n",
    "import sys, os\n",
    "sys.path.append('/home/seyedkazemi/codes/HPCRoomModel/mskhelper/')\n",
    "import pandas as pd, numpy as np\n",
    "import dask.dataframe as ds\n",
    "import logging\n",
    "import datetime, pytz\n",
    "import mohsenutils\n",
    "import imp \n",
    "import m100_preprocessing_helper\n",
    "import data_provider\n",
    "imp.reload(m100_preprocessing_helper)\n",
    "\n",
    "\n",
    "\n",
    "fan = pd.read_csv('/home/seyedkazemi/dataset/Marconi100_backup/ipmi_pub/fan.csv.gz',         date_parser=pd.to_datetime,parse_dates=True,index_col='timestamp')#.resample('10T').mean() \n",
    "ambient = pd.read_csv('/home/seyedkazemi/dataset/Marconi100_backup/ipmi_pub/ambient.csv.gz', date_parser=pd.to_datetime,parse_dates=True,index_col='timestamp')#.resample('10T').mean() \n",
    "power = pd.read_csv('/home/seyedkazemi/dataset/Marconi100_backup/ipmi_pub/ps.csv.gz',        date_parser=pd.to_datetime,parse_dates=True,index_col='timestamp')#.resample('10T').mean() "
   ]
  },
  {
   "cell_type": "code",
   "execution_count": null,
   "id": "popular-oklahoma",
   "metadata": {},
   "outputs": [],
   "source": [
    "fan.sort_index(inplace=True)\n",
    "ambient.sort_index(inplace=True)\n",
    "power.sort_index(inplace=True)\n",
    "\n",
    "fan = fan.resample('10T').mean()\n",
    "ambient = ambient.resample('10T').mean()\n",
    "power = power.resample('10T').mean()\n",
    "\n",
    "fan.sort_index(inplace=True)\n",
    "ambient.sort_index(inplace=True)\n",
    "power.sort_index(inplace=True)"
   ]
  },
  {
   "cell_type": "code",
   "execution_count": null,
   "id": "crude-runner",
   "metadata": {},
   "outputs": [],
   "source": [
    "display(fan, power, ambient)"
   ]
  },
  {
   "cell_type": "code",
   "execution_count": null,
   "id": "imperial-advertising",
   "metadata": {},
   "outputs": [],
   "source": [
    "fan.to_csv('/home/seyedkazemi/dataset/Marconi100_backup/ipmi_pub/fan.csv.gz',        compression='gzip') \n",
    "ambient.to_csv('/home/seyedkazemi/dataset/Marconi100_backup/ipmi_pub/ambient.csv.gz', compression='gzip') \n",
    "power.to_csv('/home/seyedkazemi/dataset/Marconi100_backup/ipmi_pub/ps.csv.gz',        compression='gzip')"
   ]
  }
 ],
 "metadata": {
  "kernelspec": {
   "display_name": "Python 3",
   "language": "python",
   "name": "python3"
  },
  "language_info": {
   "codemirror_mode": {
    "name": "ipython",
    "version": 3
   },
   "file_extension": ".py",
   "mimetype": "text/x-python",
   "name": "python",
   "nbconvert_exporter": "python",
   "pygments_lexer": "ipython3",
   "version": "3.8.5"
  }
 },
 "nbformat": 4,
 "nbformat_minor": 5
}
