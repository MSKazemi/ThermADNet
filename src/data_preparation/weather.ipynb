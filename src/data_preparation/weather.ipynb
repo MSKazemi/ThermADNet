{
 "cells": [
  {
   "cell_type": "markdown",
   "id": "pending-complex",
   "metadata": {},
   "source": [
    "## Daily Pivot Weather"
   ]
  },
  {
   "cell_type": "code",
   "execution_count": 6,
   "id": "voluntary-vegetable",
   "metadata": {},
   "outputs": [
    {
     "name": "stdout",
     "output_type": "stream",
     "text": [
      "__temp__temp__temp__temp__temp__temp__\n"
     ]
    }
   ],
   "source": [
    "%reset -f\n",
    "import sys, os\n",
    "sys.path.append('/home/seyedkazemi/codes/mskhelper/')\n",
    "import pandas as pd, numpy as np\n",
    "import logging\n",
    "import datetime, pytz\n",
    "import mohsenutils, data_provider, m100_preprocessing_helper\n",
    "import imp \n",
    "imp.reload(mohsenutils)\n",
    "imp.reload(data_provider)\n",
    "imp.reload(m100_preprocessing_helper)\n",
    "\n",
    "\n",
    "pub = 'weather_pub'\n",
    "\n",
    "for metric in ['temp']:\n",
    "    \n",
    "    \n",
    "    print('__'+metric+'__'+metric+'__'+metric+'__'+metric+'__'+metric+'__'+metric+'__')\n",
    "    logging.info(str('__'+metric+'__'+metric+'__'+metric+'__'+metric+'__'+metric+'__'+metric+'__'))\n",
    "    log_file_name = 'weather_log_raw_data_cook_'+datetime.datetime.strftime(datetime.datetime.now(pytz.timezone('Europe/Rome')), \n",
    "                                                                      '%Y-%m-%d %H:%M:%S').replace(':','-').replace(' ','_')+'.log'\n",
    "    logging.basicConfig(filename=log_file_name,level=logging.INFO, format='%(levelname)s:%(asctime)s:%(lineno)d:%(message)s')\n",
    "\n",
    "\n",
    "    path = os.path.join('/home/seyedkazemi/dataset/Marconi100_backup/',pub,metric,'')\n",
    "\n",
    "    if not os.path.isdir(path+'/'+metric+'_done/'):\n",
    "        os.makedirs(path+'/'+metric+'_done/')\n",
    "\n",
    "    if not os.path.isdir(path+'/'+metric+'_pivot/'):\n",
    "        os.makedirs(path+'/'+metric+'_pivot/')    \n",
    "\n",
    "    files_list = sorted([file for file in os.listdir(path) if '.csv.gz' in file])\n",
    "    for file in files_list:\n",
    "        print(file)\n",
    "        logging.info(str(file))\n",
    "        \n",
    "        data = pd.read_csv(path+file, compression='gzip', index_col='timestamp')\n",
    "        \n",
    "        data.loc[data['value'] == 'Unavailable', 'value'] = np.nan\n",
    "        data.loc[data['value'] == 'unknown', 'value'] = np.nan\n",
    "        data['value'] = data['value'].astype(float)\n",
    "\n",
    "\n",
    "        \n",
    "        print('Data shape: ', data.shape)\n",
    "        logging.info('Data shape: '+ str(data.shape))\n",
    "\n",
    "\n",
    "        data = data.pipe(m100_preprocessing_helper.remove_Unnamed, log=True).\\\n",
    "        pipe(m100_preprocessing_helper.unique_val, log=True).\\\n",
    "        pipe(m100_preprocessing_helper.pvt, index='timestamp', freq='10T', columns='type', values='value', log=True)\n",
    "\n",
    "        data.to_csv(path+'/'+metric+'_pivot/'+file.split('.')[0]+'.csv.gz', compression='gzip')\n",
    "        os.replace(path+file, path+metric+'_done/'+file)\n",
    "        print(50*'#')\n",
    "        logging.info(str(50*'#'))\n",
    "    \n",
    "    \n",
    "   "
   ]
  },
  {
   "cell_type": "markdown",
   "id": "accredited-caribbean",
   "metadata": {},
   "source": [
    "## Create One Big file"
   ]
  },
  {
   "cell_type": "code",
   "execution_count": 7,
   "id": "indie-reconstruction",
   "metadata": {},
   "outputs": [
    {
     "name": "stdout",
     "output_type": "stream",
     "text": [
      "['/home/seyedkazemi/dataset/Marconi100_backup/weather_pub/temp/temp_pivot/temp_big.csv.gz']\n",
      "Number of file 1\n",
      "Your pivot already has been updated.\n"
     ]
    },
    {
     "data": {
      "text/plain": [
       "''"
      ]
     },
     "execution_count": 7,
     "metadata": {},
     "output_type": "execute_result"
    }
   ],
   "source": [
    "%reset -f\n",
    "import sys, os\n",
    "sys.path.append('/home/seyedkazemi/codes/mskhelper/')\n",
    "import pandas as pd, numpy as np\n",
    "import glob\n",
    "import logging\n",
    "import datetime, pytz\n",
    "import mohsenutils\n",
    "import imp \n",
    "import m100_preprocessing_helper\n",
    "imp.reload(m100_preprocessing_helper)\n",
    "\n",
    "\n",
    "\n",
    "pth = '/home/seyedkazemi/dataset/Marconi100_backup/'\n",
    "\n",
    "m100_preprocessing_helper.concat_multiple_csvs(csvdir=os.path.join(pth, 'weather_pub', 'temp', 'temp_pivot'), \n",
    "                                               big_csv_path_name=os.path.join(pth,'weather_pub','temp', 'temp_pivot','temp_big.csv.gz'),\n",
    "                                               old_pivot_path=os.path.join(pth, 'weather_pub', 'temp', 'temp_pivot_old_pivot',''),\n",
    "                                               freq='10T')\n",
    "\n",
    "\n",
    "\n"
   ]
  },
  {
   "cell_type": "markdown",
   "id": "correct-batch",
   "metadata": {},
   "source": [
    "## COPY Temp DATA"
   ]
  },
  {
   "cell_type": "code",
   "execution_count": 8,
   "id": "velvet-temple",
   "metadata": {},
   "outputs": [
    {
     "data": {
      "text/plain": [
       "'/home/seyedkazemi/dataset/M100_Complete/temp_big.csv.gz'"
      ]
     },
     "execution_count": 8,
     "metadata": {},
     "output_type": "execute_result"
    }
   ],
   "source": [
    "from shutil import copyfile\n",
    "copyfile('/home/seyedkazemi/dataset/Marconi100_backup/weather_pub/temp/temp_pivot/temp_big.csv.gz', \n",
    "         '/home/seyedkazemi/dataset/M100_Complete/temp_big.csv.gz')\n"
   ]
  },
  {
   "cell_type": "code",
   "execution_count": null,
   "id": "existing-traveler",
   "metadata": {},
   "outputs": [],
   "source": []
  }
 ],
 "metadata": {
  "kernelspec": {
   "display_name": "Python 3",
   "language": "python",
   "name": "python3"
  },
  "language_info": {
   "codemirror_mode": {
    "name": "ipython",
    "version": 3
   },
   "file_extension": ".py",
   "mimetype": "text/x-python",
   "name": "python",
   "nbconvert_exporter": "python",
   "pygments_lexer": "ipython3",
   "version": "3.8.5"
  }
 },
 "nbformat": 4,
 "nbformat_minor": 5
}
